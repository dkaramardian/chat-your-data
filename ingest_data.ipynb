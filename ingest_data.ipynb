{
 "cells": [
  {
   "cell_type": "code",
   "execution_count": 11,
   "metadata": {},
   "outputs": [],
   "source": [
    "from langchain.text_splitter import RecursiveCharacterTextSplitter, CharacterTextSplitter\n",
    "from langchain.document_loaders import UnstructuredFileLoader\n",
    "from langchain.vectorstores.faiss import FAISS\n",
    "from langchain.vectorstores import ElasticVectorSearch, Pinecone, Weaviate, FAISS, Qdrant, Chroma\n",
    "from langchain.embeddings import OpenAIEmbeddings, HuggingFaceEmbeddings\n",
    "import pandas as pd\n",
    "import pickle\n",
    "import os"
   ]
  },
  {
   "cell_type": "code",
   "execution_count": 12,
   "metadata": {},
   "outputs": [],
   "source": [
    "#os.environ[\"OPENAI_API_KEY\"] = put sk key here\n"
   ]
  },
  {
   "cell_type": "code",
   "execution_count": 24,
   "metadata": {},
   "outputs": [],
   "source": [
    "regdata = pd.read_csv('RegData_CFR_Transportation.csv')\n",
    "data = list(regdata['documentText'])\n",
    "sources = list(regdata['documentID'])"
   ]
  },
  {
   "cell_type": "code",
   "execution_count": 25,
   "metadata": {},
   "outputs": [
    {
     "name": "stderr",
     "output_type": "stream",
     "text": [
      "Created a chunk of size 21255, which is longer than the specified 2000\n",
      "Created a chunk of size 5830, which is longer than the specified 2000\n",
      "Created a chunk of size 2961, which is longer than the specified 2000\n",
      "Created a chunk of size 4025, which is longer than the specified 2000\n",
      "Created a chunk of size 2916, which is longer than the specified 2000\n",
      "Created a chunk of size 3248, which is longer than the specified 2000\n",
      "Created a chunk of size 3867, which is longer than the specified 2000\n",
      "Created a chunk of size 2094, which is longer than the specified 2000\n",
      "Created a chunk of size 12684, which is longer than the specified 2000\n",
      "Created a chunk of size 2930, which is longer than the specified 2000\n",
      "Created a chunk of size 5309, which is longer than the specified 2000\n",
      "Created a chunk of size 4926, which is longer than the specified 2000\n",
      "Created a chunk of size 3005, which is longer than the specified 2000\n",
      "Created a chunk of size 2054, which is longer than the specified 2000\n",
      "Created a chunk of size 12111, which is longer than the specified 2000\n",
      "Created a chunk of size 3972, which is longer than the specified 2000\n",
      "Created a chunk of size 2684, which is longer than the specified 2000\n",
      "Created a chunk of size 2004, which is longer than the specified 2000\n",
      "Created a chunk of size 2140, which is longer than the specified 2000\n",
      "Created a chunk of size 2132, which is longer than the specified 2000\n",
      "Created a chunk of size 2510, which is longer than the specified 2000\n",
      "Created a chunk of size 2129, which is longer than the specified 2000\n",
      "Created a chunk of size 2753, which is longer than the specified 2000\n",
      "Created a chunk of size 2242, which is longer than the specified 2000\n",
      "Created a chunk of size 2552, which is longer than the specified 2000\n",
      "Created a chunk of size 2451, which is longer than the specified 2000\n",
      "Created a chunk of size 2227, which is longer than the specified 2000\n",
      "Created a chunk of size 2267, which is longer than the specified 2000\n",
      "Created a chunk of size 2063, which is longer than the specified 2000\n",
      "Created a chunk of size 3470, which is longer than the specified 2000\n",
      "Created a chunk of size 2318, which is longer than the specified 2000\n",
      "Created a chunk of size 3315, which is longer than the specified 2000\n",
      "Created a chunk of size 2872, which is longer than the specified 2000\n",
      "Created a chunk of size 2080, which is longer than the specified 2000\n",
      "Created a chunk of size 2375, which is longer than the specified 2000\n",
      "Created a chunk of size 2837, which is longer than the specified 2000\n",
      "Created a chunk of size 3442, which is longer than the specified 2000\n",
      "Created a chunk of size 3834, which is longer than the specified 2000\n",
      "Created a chunk of size 16873, which is longer than the specified 2000\n",
      "Created a chunk of size 2006, which is longer than the specified 2000\n",
      "Created a chunk of size 2567, which is longer than the specified 2000\n",
      "Created a chunk of size 2718, which is longer than the specified 2000\n",
      "Created a chunk of size 2239, which is longer than the specified 2000\n",
      "Created a chunk of size 4629, which is longer than the specified 2000\n",
      "Created a chunk of size 2393, which is longer than the specified 2000\n",
      "Created a chunk of size 22112, which is longer than the specified 2000\n",
      "Created a chunk of size 15219, which is longer than the specified 2000\n",
      "Created a chunk of size 6461, which is longer than the specified 2000\n",
      "Created a chunk of size 2152, which is longer than the specified 2000\n",
      "Created a chunk of size 2001, which is longer than the specified 2000\n",
      "Created a chunk of size 2031, which is longer than the specified 2000\n",
      "Created a chunk of size 5605, which is longer than the specified 2000\n",
      "Created a chunk of size 2495, which is longer than the specified 2000\n",
      "Created a chunk of size 2025, which is longer than the specified 2000\n",
      "Created a chunk of size 2079, which is longer than the specified 2000\n",
      "Created a chunk of size 3318, which is longer than the specified 2000\n",
      "Created a chunk of size 10744, which is longer than the specified 2000\n",
      "Created a chunk of size 2941, which is longer than the specified 2000\n",
      "Created a chunk of size 2058, which is longer than the specified 2000\n",
      "Created a chunk of size 4271, which is longer than the specified 2000\n",
      "Created a chunk of size 11359, which is longer than the specified 2000\n",
      "Created a chunk of size 17614, which is longer than the specified 2000\n",
      "Created a chunk of size 2269, which is longer than the specified 2000\n",
      "Created a chunk of size 3052, which is longer than the specified 2000\n",
      "Created a chunk of size 2002, which is longer than the specified 2000\n",
      "Created a chunk of size 13515, which is longer than the specified 2000\n",
      "Created a chunk of size 2887, which is longer than the specified 2000\n",
      "Created a chunk of size 2446, which is longer than the specified 2000\n",
      "Created a chunk of size 2456, which is longer than the specified 2000\n",
      "Created a chunk of size 2286, which is longer than the specified 2000\n",
      "Created a chunk of size 2041, which is longer than the specified 2000\n",
      "Created a chunk of size 2156, which is longer than the specified 2000\n",
      "Created a chunk of size 2683, which is longer than the specified 2000\n",
      "Created a chunk of size 4021, which is longer than the specified 2000\n",
      "Created a chunk of size 3474, which is longer than the specified 2000\n",
      "Created a chunk of size 2866, which is longer than the specified 2000\n",
      "Created a chunk of size 2035, which is longer than the specified 2000\n"
     ]
    }
   ],
   "source": [
    "text_splitter = CharacterTextSplitter(chunk_size=2000, chunk_overlap=0)\n",
    "docs = ''.join(data)\n",
    "metadatas = []\n",
    "texts = text_splitter.split_text(docs)"
   ]
  },
  {
   "cell_type": "code",
   "execution_count": 26,
   "metadata": {},
   "outputs": [
    {
     "data": {
      "text/plain": [
       "12232"
      ]
     },
     "execution_count": 26,
     "metadata": {},
     "output_type": "execute_result"
    }
   ],
   "source": [
    "len(texts)"
   ]
  },
  {
   "cell_type": "code",
   "execution_count": 12,
   "metadata": {},
   "outputs": [],
   "source": [
    "embeddings = HuggingFaceEmbeddings()\n",
    "vectorstore = FAISS.from_texts(texts, embeddings, metadatas=[{\"source\": i} \\\n",
    "                                                                for i in range(len(texts))])"
   ]
  },
  {
   "cell_type": "code",
   "execution_count": null,
   "metadata": {},
   "outputs": [],
   "source": [
    "vectorstore.save_local(\"vectorstore_regs\")"
   ]
  }
 ],
 "metadata": {
  "interpreter": {
   "hash": "897ed4e8b9317279c833cb265c2b9402c5227d6cb98d04fa1d2bcf2cc320505c"
  },
  "kernelspec": {
   "display_name": "Python 3.9.7 ('base')",
   "language": "python",
   "name": "python3"
  },
  "language_info": {
   "codemirror_mode": {
    "name": "ipython",
    "version": 3
   },
   "file_extension": ".py",
   "mimetype": "text/x-python",
   "name": "python",
   "nbconvert_exporter": "python",
   "pygments_lexer": "ipython3",
   "version": "3.9.7"
  },
  "orig_nbformat": 4
 },
 "nbformat": 4,
 "nbformat_minor": 2
}
